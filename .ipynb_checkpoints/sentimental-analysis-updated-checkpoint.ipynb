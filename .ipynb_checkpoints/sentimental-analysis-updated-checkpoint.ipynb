{
 "cells": [
  {
   "cell_type": "code",
   "execution_count": 48,
   "id": "e479bd2b-bcfb-4d97-b3a7-149d121dc0a6",
   "metadata": {},
   "outputs": [],
   "source": [
    "import pandas as pd\n",
    "from nltk.stem import PorterStemmer\n",
    "from nltk.metrics.distance  import edit_distance \n",
    "from collections import Counter\n",
    "import re\n",
    "import os\n",
    "from nltk import word_tokenize\n",
    "import nltk\n",
    "from nltk.corpus import stopwords\n",
    "from nltk import pos_tag\n",
    "from nltk.corpus import wordnet\n",
    "from nltk.stem import WordNetLemmatizer\n",
    "from sklearn.feature_extraction.text import TfidfVectorizer\n",
    "from sklearn.feature_extraction.text import CountVectorizer\n",
    "from sklearn.linear_model import LogisticRegression\n",
    "from sklearn.model_selection import train_test_split\n",
    "from sklearn.metrics import classification_report, confusion_matrix\n",
    "from sklearn.metrics import accuracy_score"
   ]
  },
  {
   "cell_type": "code",
   "execution_count": 49,
   "id": "0fb2d619-60b8-4b88-8204-e203f4ba5f1f",
   "metadata": {},
   "outputs": [
    {
     "name": "stderr",
     "output_type": "stream",
     "text": [
      "[nltk_data] Downloading package stopwords to\n",
      "[nltk_data]     /Users/reroreo1/nltk_data...\n",
      "[nltk_data]   Package stopwords is already up-to-date!\n",
      "[nltk_data] Downloading package punkt_tab to\n",
      "[nltk_data]     /Users/reroreo1/nltk_data...\n",
      "[nltk_data]   Package punkt_tab is already up-to-date!\n",
      "[nltk_data] Downloading package wordnet to\n",
      "[nltk_data]     /Users/reroreo1/nltk_data...\n",
      "[nltk_data]   Package wordnet is already up-to-date!\n",
      "[nltk_data] Downloading package averaged_perceptron_tagger_eng to\n",
      "[nltk_data]     /Users/reroreo1/nltk_data...\n",
      "[nltk_data]   Package averaged_perceptron_tagger_eng is already up-to-\n",
      "[nltk_data]       date!\n"
     ]
    }
   ],
   "source": [
    "nltk.download(\"stopwords\")\n",
    "nltk.download('punkt_tab')\n",
    "nltk.download('wordnet')\n",
    "nltk.download('averaged_perceptron_tagger_eng')\n",
    "lemmatizer = WordNetLemmatizer()\n",
    "stemmer = PorterStemmer()\n",
    "folder_path = \"/Users/reroreo1/Desktop/p00_tweets/\"\n",
    "files = ['processedPositive.csv', 'processedNeutral.csv', 'processedNegative.csv']\n",
    "stop_words = set(stopwords.words(\"english\"))"
   ]
  },
  {
   "cell_type": "code",
   "execution_count": 50,
   "id": "7fec037d-2bfe-4964-85b2-c7f8b00d9969",
   "metadata": {},
   "outputs": [],
   "source": [
    "def clean_text(text):\n",
    "    # Convert to lowercase, remove numbers, quotes, and strip leading/trailing spaces\n",
    "    text = re.sub(r\"\\d+\", \"\", text.lower()).replace(\"'\", \"\").replace('\"', \"\")\n",
    "    # Add newlines where a comma is not followed by a space\n",
    "    text = re.sub(r\",(?=\\S)\", \"\\n\", text)\n",
    "    # Split by lines and filter out short lines (less than 2 words)\n",
    "    return [line.strip() for line in text.split(\"\\n\") if len(line.split()) >= 2]\n",
    "    \n",
    "def normalize_repeated_letters(text):\n",
    "    # Replace 3+ repeated letters with a single occurrence\n",
    "    text = re.sub(r'(.)\\1{2,}', r'\\1', text)  # e.g., \"happyyyy\" -> \"happi\"\n",
    "    text = re.sub(r'[^a-zA-Z\\s]', '', text)   # Remove non-alphabetic characters\n",
    "    return text\n",
    "    \n",
    "negations = {\"not\", \"no\", \"nor\", \"never\"}\n",
    "\n",
    "def remove_stop_words(words):\n",
    "    cleaned_list = [word for word in words if word not in stop_words or word in negations]\n",
    "    return cleaned_list\n",
    "    \n",
    "def count_words(tweet):\n",
    "    return Counter(tweet)\n",
    "\n",
    "def stemmatization(words):\n",
    "    stem_list = [stemmer.stem(word) for word in words]\n",
    "    return ('').join(stem_list)\n",
    "\n",
    "def sentiment_to_numbers(text):\n",
    "    if text == \"positive\":\n",
    "        return 4\n",
    "    elif text == \"negative\":\n",
    "        return 0\n",
    "    else:\n",
    "        return 2\n",
    "\n",
    "def get_wordnet_pos(tag):\n",
    "    if tag.startswith('J'):  # Adjective\n",
    "        return wordnet.ADJ\n",
    "    elif tag.startswith('V'):  # Verb\n",
    "        return wordnet.VERB\n",
    "    elif tag.startswith('N'):  # Noun\n",
    "        return wordnet.NOUN\n",
    "    elif tag.startswith('R'):  # Adverb\n",
    "        return wordnet.ADV\n",
    "    else:\n",
    "        return wordnet.NOUN\n",
    "from collections import Counter\n",
    "\n",
    "# Function to count words for each sentiment category\n",
    "def get_most_frequent_words(df, sentiment, n=10):\n",
    "    \"\"\"\n",
    "    Get the most frequent words in tweets of a specific sentiment.\n",
    "\n",
    "    Args:\n",
    "        df (DataFrame): The DataFrame containing 'text' and 'sentiment'.\n",
    "        sentiment (str): The sentiment category (e.g., 'positive').\n",
    "        n (int): The number of top words to return.\n",
    "\n",
    "    Returns:\n",
    "        List of tuples: Top `n` words and their frequencies.\n",
    "    \"\"\"\n",
    "    word_counter = Counter()\n",
    "    # Filter tweets by sentiment and update word frequencies\n",
    "    df[df['sentiment'] == sentiment]['lem_word_count'].apply(lambda x: word_counter.update(x))\n",
    "    return word_counter.most_common(n)\n",
    "\n",
    "# Find the top 10 most frequent words for each sentiment\n",
    "\n",
    "def lemmatize_pos(words):\n",
    "    tags = nltk.pos_tag(words)\n",
    "    lem_list = [lemmatizer.lemmatize(word, get_wordnet_pos(tag)) for word, tag in tags]\n",
    "    return (' ').join(lem_list)\n",
    "\n",
    "def lemmatize_pos_for_word_count(words):\n",
    "    tags = nltk.pos_tag(words)\n",
    "    lem_list = [lemmatizer.lemmatize(word, get_wordnet_pos(tag)) for word, tag in tags]\n",
    "    return lem_list"
   ]
  },
  {
   "cell_type": "code",
   "execution_count": 51,
   "id": "dbce4ae5-f3eb-4664-a165-48239cbac05d",
   "metadata": {},
   "outputs": [],
   "source": [
    "# Process all files\n",
    "tweets = {}\n",
    "for file in files:\n",
    "    file_path = os.path.join(folder_path, file)\n",
    "    with open(file_path, 'r') as f:\n",
    "        raw_text = f.read()\n",
    "    # Clean the text and remove duplicates\n",
    "    text = clean_text(raw_text)\n",
    "    processed_text = list(set(text))\n",
    "    # Save processed tweets in the dictionary\n",
    "    key = file.replace(\"processed\", \"\").replace(\".csv\", \"\").lower()\n",
    "    tweets[key] = processed_text"
   ]
  },
  {
   "cell_type": "code",
   "execution_count": 52,
   "id": "6f2b552b-b531-4e7e-a0dc-42d830383650",
   "metadata": {
    "scrolled": true
   },
   "outputs": [],
   "source": [
    "    \n",
    "\n",
    "# Output: A dictionary with cleaned and filtered tweets\n",
    "data = []\n",
    "for sentiment, tweet_list in tweets.items():\n",
    "    for tweet in tweet_list:\n",
    "        data.append((tweet, sentiment))\n",
    "\n",
    "# Create a DataFrame\n",
    "df = pd.DataFrame(data, columns=[\"text\", \"sentiment\"])\n",
    "df\n",
    "df[\"text\"] = df[\"text\"].apply(normalize_repeated_letters)\n",
    "# use nltk word tokenizer to split the cleaned text to tokens \n",
    "df[\"text\"] = df[\"text\"].apply(word_tokenize)\n",
    "# #remove stop words to avoid noise\n",
    "df[\"text\"] = df[\"text\"].apply(remove_stop_words)\n",
    "#apply stemmatization on the list of words\n",
    "global_word_count = Counter()\n",
    "\n",
    "\n",
    "df[\"text\"].apply(lambda x: global_word_count.update(x))\n",
    "\n",
    "# print(global_word_count)\n",
    "\n",
    "df['lemmatized_text'] = df[\"text\"].apply(lemmatize_pos)"
   ]
  },
  {
   "cell_type": "code",
   "execution_count": 53,
   "id": "ea1bb08d-4e08-48d0-a811-c1cbdb9f181d",
   "metadata": {
    "scrolled": true
   },
   "outputs": [
    {
     "name": "stdout",
     "output_type": "stream",
     "text": [
      "Top Positive Words: [('happy', 571), ('thanks', 94), ('want', 65), ('smile', 56), ('get', 56), ('great', 55), ('much', 54), ('follow', 53), ('love', 52), ('good', 45)]\n",
      "Top Negative Words: [('unhappy', 682), ('get', 71), ('sad', 70), ('miss', 66), ('not', 62), ('want', 56), ('im', 55), ('dont', 53), ('like', 53), ('go', 51)]\n",
      "Top Neutral Words: [('also', 78), ('epaper', 75), ('court', 65), ('say', 64), ('india', 54), ('govt', 46), ('minister', 45), ('not', 40), ('supreme', 39), ('take', 37)]\n"
     ]
    }
   ],
   "source": [
    "df['lem_word_count'] = df[\"text\"].apply(lemmatize_pos_for_word_count)\n",
    "\n",
    "positive_words = get_most_frequent_words(df, 'positive', 10)\n",
    "negative_words = get_most_frequent_words(df, 'negative', 10)\n",
    "neutral_words = get_most_frequent_words(df, 'neutral', 10)\n",
    "\n",
    "# Display the results\n",
    "print(\"Top Positive Words:\", positive_words)\n",
    "print(\"Top Negative Words:\", negative_words)\n",
    "print(\"Top Neutral Words:\", neutral_words)\n",
    "\n",
    "vectorizer = CountVectorizer()\n",
    "\n",
    "X = vectorizer.fit_transform(df['lemmatized_text'])  # Join tokens if tokenized\n",
    "\n",
    "# Get the target variable (e.g., sentiment)\n",
    "y = df['sentiment'] "
   ]
  },
  {
   "cell_type": "code",
   "execution_count": 54,
   "id": "0bd07874-c189-492d-85ad-51cbe5b71566",
   "metadata": {
    "scrolled": true
   },
   "outputs": [
    {
     "name": "stdout",
     "output_type": "stream",
     "text": [
      "Classification Report:\n",
      "              precision    recall  f1-score   support\n",
      "\n",
      "    negative       0.99      0.89      0.94       180\n",
      "     neutral       0.88      0.98      0.92       188\n",
      "    positive       0.93      0.90      0.91       161\n",
      "\n",
      "    accuracy                           0.93       529\n",
      "   macro avg       0.93      0.92      0.93       529\n",
      "weighted avg       0.93      0.93      0.93       529\n",
      "\n",
      "Confusion Matrix:\n",
      "[[161  11   8]\n",
      " [  1 184   3]\n",
      " [  1  15 145]]\n",
      "Accuracy: 92.62759924385632 %\n"
     ]
    }
   ],
   "source": [
    "# df[\"word_count\"] = df[\"text\"].apply(count_words)\n",
    "\n",
    "# print(df[\"word_count\"])\n",
    "\n",
    "tfidf_vectorizer = TfidfVectorizer(max_features=5000)  # Limit to top 5000 features\n",
    "\n",
    "# Transform the text into TF-IDF features\n",
    "# tfidf_features = tfidf_vectorizer.fit_transform(df['lemmatized_text'])\n",
    "tfidf_features = tfidf_vectorizer.fit_transform(df['lemmatized_text'])\n",
    "\n",
    "# X = tfidf_features  # TF-IDF features\n",
    "# y = df['sentiment']  # Sentiment labels\n",
    "# print(df.shape)\n",
    "# print(df)\n",
    "# # Split into training and test sets\n",
    "X_train, X_test, y_train, y_test = train_test_split(X, y, test_size=0.2, random_state=42)\n",
    "\n",
    "# print(\"Training Data Shape:\", X_train.shape)\n",
    "# print(\"Testing Data Shape:\", X_test.shape)\n",
    "\n",
    "logreg = LogisticRegression(max_iter=200)\n",
    "logreg.fit(X_train, y_train)\n",
    "\n",
    "y_pred = logreg.predict(X_test)\n",
    "\n",
    "print(\"Classification Report:\")\n",
    "print(classification_report(y_test, y_pred))\n",
    "\n",
    "# Confusion matrix\n",
    "print(\"Confusion Matrix:\")\n",
    "cm = confusion_matrix(y_test, y_pred)\n",
    "print(cm)\n",
    "# Compare the true labels (y_test) with the predicted labels (y_pred)\n",
    "accuracy = accuracy_score(y_test, y_pred)\n",
    "print(f\"Accuracy: {accuracy * 100} %\") \n",
    "# df"
   ]
  },
  {
   "cell_type": "code",
   "execution_count": null,
   "id": "87b68051-e4f7-424b-9237-cf96f5f5e26b",
   "metadata": {},
   "outputs": [],
   "source": []
  },
  {
   "cell_type": "code",
   "execution_count": null,
   "id": "5b800159",
   "metadata": {},
   "outputs": [],
   "source": [
    "\n",
    "# Convert lemmatized_text back to a string for vectorizers\n",
    "df['processed_text'] = df['lemmatized_text'].apply(lambda x: ' '.join(x) if isinstance(x, list) else x)\n",
    "    "
   ]
  },
  {
   "cell_type": "code",
   "execution_count": null,
   "id": "0eb154e4",
   "metadata": {},
   "outputs": [],
   "source": [
    "\n",
    "# Generate TF-IDF features\n",
    "tfidf_vectorizer = TfidfVectorizer(max_features=5000)  # Limit to top 5000 features for efficiency\n",
    "X_tfidf = tfidf_vectorizer.fit_transform(df['processed_text'])\n",
    "y = df['sentiment'].apply(sentiment_to_numbers)\n",
    "    "
   ]
  },
  {
   "cell_type": "code",
   "execution_count": null,
   "id": "00d32294",
   "metadata": {},
   "outputs": [],
   "source": [
    "\n",
    "# Generate CountVectorizer features\n",
    "count_vectorizer = CountVectorizer(max_features=5000)  # Limit to top 5000 features for efficiency\n",
    "X_count = count_vectorizer.fit_transform(df['processed_text'])\n",
    "    "
   ]
  },
  {
   "cell_type": "code",
   "execution_count": null,
   "id": "35d2c90d",
   "metadata": {},
   "outputs": [],
   "source": [
    "\n",
    "# Split data into training and testing sets\n",
    "from sklearn.model_selection import train_test_split\n",
    "\n",
    "X_train_tfidf, X_test_tfidf, y_train, y_test = train_test_split(X_tfidf, y, test_size=0.2, random_state=42)\n",
    "X_train_count, X_test_count, _, _ = train_test_split(X_count, y, test_size=0.2, random_state=42)\n",
    "    "
   ]
  },
  {
   "cell_type": "code",
   "execution_count": null,
   "id": "49e9b693",
   "metadata": {},
   "outputs": [],
   "source": [
    "\n",
    "# Train Logistic Regression with TF-IDF features\n",
    "tfidf_model = LogisticRegression(max_iter=1000, random_state=42)\n",
    "tfidf_model.fit(X_train_tfidf, y_train)\n",
    "\n",
    "# Evaluate the model\n",
    "y_pred_tfidf = tfidf_model.predict(X_test_tfidf)\n",
    "print(\"TF-IDF Logistic Regression Performance:\")\n",
    "print(\"Accuracy:\", accuracy_score(y_test, y_pred_tfidf))\n",
    "print(\"Classification Report:\\n\", classification_report(y_test, y_pred_tfidf))\n",
    "print(\"Confusion Matrix:\\n\", confusion_matrix(y_test, y_pred_tfidf))\n",
    "    "
   ]
  },
  {
   "cell_type": "code",
   "execution_count": null,
   "id": "8dc1fddc",
   "metadata": {},
   "outputs": [],
   "source": [
    "\n",
    "# Train Logistic Regression with CountVectorizer features\n",
    "count_model = LogisticRegression(max_iter=1000, random_state=42)\n",
    "count_model.fit(X_train_count, y_train)\n",
    "\n",
    "# Evaluate the model\n",
    "y_pred_count = count_model.predict(X_test_count)\n",
    "print(\"CountVectorizer Logistic Regression Performance:\")\n",
    "print(\"Accuracy:\", accuracy_score(y_test, y_pred_count))\n",
    "print(\"Classification Report:\\n\", classification_report(y_test, y_pred_count))\n",
    "print(\"Confusion Matrix:\\n\", confusion_matrix(y_test, y_pred_count))\n",
    "    "
   ]
  }
 ],
 "metadata": {
  "kernelspec": {
   "display_name": "Python 3 (ipykernel)",
   "language": "python",
   "name": "python3"
  },
  "language_info": {
   "codemirror_mode": {
    "name": "ipython",
    "version": 3
   },
   "file_extension": ".py",
   "mimetype": "text/x-python",
   "name": "python",
   "nbconvert_exporter": "python",
   "pygments_lexer": "ipython3",
   "version": "3.13.1"
  }
 },
 "nbformat": 4,
 "nbformat_minor": 5
}
